{
  "cells": [
    {
      "cell_type": "markdown",
      "metadata": {
        "id": "view-in-github",
        "colab_type": "text"
      },
      "source": [
        "<a href=\"https://colab.research.google.com/github/sachaRfd/Name-Classification-Algorithm/blob/main/Copy_of_Name_Classification_Notebook.ipynb\" target=\"_parent\"><img src=\"https://colab.research.google.com/assets/colab-badge.svg\" alt=\"Open In Colab\"/></a>"
      ]
    },
    {
      "cell_type": "markdown",
      "id": "6bf2132f",
      "metadata": {
        "id": "6bf2132f"
      },
      "source": [
        "Name Classification Algorithm: Adapted from https://pytorch.org/tutorials/intermediate/char_rnn_classification_tutorial.html"
      ]
    },
    {
      "cell_type": "markdown",
      "source": [
        "Prepping Data from Local File: \n",
        "- Helper Functions to switch Names with extra symbols to ACSII names\n",
        "- Get dictionary of names where the class is the country the names belong to."
      ],
      "metadata": {
        "id": "3HDs67xJoMVh"
      },
      "id": "3HDs67xJoMVh"
    },
    {
      "cell_type": "code",
      "source": [
        "from google.colab import drive\n",
        "drive.mount('/content/drive')"
      ],
      "metadata": {
        "colab": {
          "base_uri": "https://localhost:8080/"
        },
        "id": "z1M6ndadotEA",
        "outputId": "ea97670a-5742-4d80-e792-70f6fc2dbcc0"
      },
      "id": "z1M6ndadotEA",
      "execution_count": 1,
      "outputs": [
        {
          "output_type": "stream",
          "name": "stdout",
          "text": [
            "Drive already mounted at /content/drive; to attempt to forcibly remount, call drive.mount(\"/content/drive\", force_remount=True).\n"
          ]
        }
      ]
    },
    {
      "cell_type": "code",
      "source": [
        "from __future__ import unicode_literals, print_function, division\n",
        "from io import open\n",
        "import glob\n",
        "import os\n",
        "\n",
        "def findFiles(path): return glob.glob(path)\n",
        "\n",
        "print(findFiles('data/names/*.txt'))\n",
        "\n",
        "import unicodedata\n",
        "import string\n",
        "\n",
        "all_letters = string.ascii_letters + \" .,;'\"\n",
        "n_letters = len(all_letters)\n",
        "\n",
        "# Turn a Unicode string to plain ASCII, thanks to https://stackoverflow.com/a/518232/2809427\n",
        "def unicodeToAscii(s):\n",
        "    return ''.join(\n",
        "        c for c in unicodedata.normalize('NFD', s)\n",
        "        if unicodedata.category(c) != 'Mn'\n",
        "        and c in all_letters\n",
        "    )\n",
        "\n",
        "print(unicodeToAscii('Ślusàrski'))\n",
        "\n",
        "# Build the category_lines dictionary, a list of names per language\n",
        "category_lines = {}\n",
        "all_categories = []\n",
        "\n",
        "# Read a file and split into lines\n",
        "def readLines(filename):\n",
        "    lines = open(filename, encoding='utf-8').read().strip().split('\\n')\n",
        "    return [unicodeToAscii(line) for line in lines]\n",
        "\n",
        "for filename in findFiles('data/names/*.txt'):\n",
        "    category = os.path.splitext(os.path.basename(filename))[0]\n",
        "    all_categories.append(category)\n",
        "    lines = readLines(filename)\n",
        "    category_lines[category] = lines\n",
        "\n",
        "n_categories = len(all_categories)"
      ],
      "metadata": {
        "colab": {
          "base_uri": "https://localhost:8080/"
        },
        "id": "L1UGL87Tn69D",
        "outputId": "2d8bce9f-e602-47d2-d4cb-cd5d283b2c93"
      },
      "id": "L1UGL87Tn69D",
      "execution_count": 2,
      "outputs": [
        {
          "output_type": "stream",
          "name": "stdout",
          "text": [
            "['data/names/German.txt', 'data/names/Russian.txt', 'data/names/English.txt', 'data/names/Polish.txt', 'data/names/Vietnamese.txt', 'data/names/Italian.txt', 'data/names/French.txt', 'data/names/Chinese.txt', 'data/names/Czech.txt', 'data/names/Greek.txt', 'data/names/Irish.txt', 'data/names/Arabic.txt', 'data/names/Scottish.txt', 'data/names/Japanese.txt', 'data/names/Spanish.txt', 'data/names/Portuguese.txt', 'data/names/Korean.txt', 'data/names/Dutch.txt']\n",
            "Slusarski\n"
          ]
        }
      ]
    },
    {
      "cell_type": "code",
      "source": [
        "print(category_lines['Italian'][:5])"
      ],
      "metadata": {
        "id": "GQqNtCUyorg6",
        "colab": {
          "base_uri": "https://localhost:8080/"
        },
        "outputId": "0c4229af-1e1c-4614-be90-00a72b5c3c16"
      },
      "id": "GQqNtCUyorg6",
      "execution_count": 3,
      "outputs": [
        {
          "output_type": "stream",
          "name": "stdout",
          "text": [
            "['Abandonato', 'Abatangelo', 'Abatantuono', 'Abate', 'Abategiovanni']\n"
          ]
        }
      ]
    },
    {
      "cell_type": "markdown",
      "source": [
        "Turning the names to tensors: \n",
        "- Then One Hot Encoding them so the model can interpret it"
      ],
      "metadata": {
        "id": "6dKkN_GPq33u"
      },
      "id": "6dKkN_GPq33u"
    },
    {
      "cell_type": "code",
      "source": [
        "import torch\n",
        "\n",
        "# Find letter index from all_letters, e.g. \"a\" = 0\n",
        "def letterToIndex(letter):\n",
        "    return all_letters.find(letter)\n",
        "\n",
        "# Just for demonstration, turn a letter into a <1 x n_letters> Tensor\n",
        "def letterToTensor(letter):\n",
        "    tensor = torch.zeros(1, n_letters)\n",
        "    tensor[0][letterToIndex(letter)] = 1\n",
        "    return tensor\n",
        "\n",
        "# Turn a line into a <line_length x 1 x n_letters>,\n",
        "# or an array of one-hot letter vectors\n",
        "def lineToTensor(line):\n",
        "    tensor = torch.zeros(len(line), 1, n_letters)\n",
        "    for li, letter in enumerate(line):\n",
        "        tensor[li][0][letterToIndex(letter)] = 1\n",
        "    return tensor\n",
        "\n",
        "print(letterToTensor('J'))\n",
        "\n",
        "print(lineToTensor('Jones').size())"
      ],
      "metadata": {
        "colab": {
          "base_uri": "https://localhost:8080/"
        },
        "id": "AmSmCIBvq7ji",
        "outputId": "9c76017a-d1ea-4c65-d239-877e57109438"
      },
      "id": "AmSmCIBvq7ji",
      "execution_count": 4,
      "outputs": [
        {
          "output_type": "stream",
          "name": "stdout",
          "text": [
            "tensor([[0., 0., 0., 0., 0., 0., 0., 0., 0., 0., 0., 0., 0., 0., 0., 0., 0., 0.,\n",
            "         0., 0., 0., 0., 0., 0., 0., 0., 0., 0., 0., 0., 0., 0., 0., 0., 0., 1.,\n",
            "         0., 0., 0., 0., 0., 0., 0., 0., 0., 0., 0., 0., 0., 0., 0., 0., 0., 0.,\n",
            "         0., 0., 0.]])\n",
            "torch.Size([5, 1, 57])\n"
          ]
        }
      ]
    },
    {
      "cell_type": "markdown",
      "source": [
        "The Model: "
      ],
      "metadata": {
        "id": "Ne-uGE18rRcm"
      },
      "id": "Ne-uGE18rRcm"
    },
    {
      "cell_type": "code",
      "source": [
        "import torch.nn as nn\n",
        "\n",
        "class RNN(nn.Module):\n",
        "    def __init__(self, input_size, hidden_size, output_size):\n",
        "        super(RNN, self).__init__()\n",
        "\n",
        "        self.hidden_size = hidden_size\n",
        "\n",
        "        self.i2h = nn.Linear(input_size + hidden_size, hidden_size)\n",
        "        self.i2o = nn.Linear(input_size + hidden_size, output_size)\n",
        "        self.softmax = nn.LogSoftmax(dim=1)\n",
        "\n",
        "    def forward(self, input, hidden):\n",
        "        combined = torch.cat((input, hidden), 1)\n",
        "        hidden = self.i2h(combined)\n",
        "        output = self.i2o(combined)\n",
        "        output = self.softmax(output)\n",
        "        return output, hidden\n",
        "\n",
        "    def initHidden(self):\n",
        "        return torch.zeros(1, self.hidden_size)\n",
        "\n",
        "n_hidden = 128\n",
        "rnn = RNN(n_letters, n_hidden, n_categories)"
      ],
      "metadata": {
        "id": "yGgGOp12rTMQ"
      },
      "id": "yGgGOp12rTMQ",
      "execution_count": 5,
      "outputs": []
    },
    {
      "cell_type": "code",
      "source": [
        "input = letterToTensor('A')\n",
        "hidden = torch.zeros(1, n_hidden)\n",
        "\n",
        "output, next_hidden = rnn(input, hidden)"
      ],
      "metadata": {
        "id": "lEphgglGrdIo"
      },
      "id": "lEphgglGrdIo",
      "execution_count": 6,
      "outputs": []
    },
    {
      "cell_type": "code",
      "source": [
        "input = lineToTensor('Albert')\n",
        "hidden = torch.zeros(1, n_hidden)\n",
        "\n",
        "output, next_hidden = rnn(input[0], hidden)\n",
        "print(output)"
      ],
      "metadata": {
        "colab": {
          "base_uri": "https://localhost:8080/"
        },
        "id": "2BECEKckrhRe",
        "outputId": "7c90fb46-9a8e-405b-c576-4f3afe2cdcd3"
      },
      "id": "2BECEKckrhRe",
      "execution_count": 7,
      "outputs": [
        {
          "output_type": "stream",
          "name": "stdout",
          "text": [
            "tensor([[-2.8602, -2.9925, -2.9192, -2.9859, -2.7974, -2.8451, -2.8387, -2.9213,\n",
            "         -2.9808, -2.8548, -2.9524, -2.9131, -2.7923, -2.9088, -2.8854, -2.8891,\n",
            "         -2.8592, -2.8608]], grad_fn=<LogSoftmaxBackward0>)\n"
          ]
        }
      ]
    },
    {
      "cell_type": "markdown",
      "source": [
        "Log-Likelyhood of being from that category --> The Higher the better"
      ],
      "metadata": {
        "id": "NXrgQH9jrpdi"
      },
      "id": "NXrgQH9jrpdi"
    },
    {
      "cell_type": "markdown",
      "source": [
        "Training: \n",
        "- Helper Functions: \n",
        "  - Interpret output of the network: Get from the index of highest log-likelihood to the Category name --> can just use Tensor.topk to get index of highest value then convert it to its category\n",
        "  - "
      ],
      "metadata": {
        "id": "1QWuWIPtrwc-"
      },
      "id": "1QWuWIPtrwc-"
    },
    {
      "cell_type": "code",
      "source": [
        "def categoryFromOutput(output):\n",
        "    top_n, top_i = output.topk(1)\n",
        "    category_i = top_i[0].item()\n",
        "    return all_categories[category_i], category_i\n",
        "\n",
        "print(categoryFromOutput(output))"
      ],
      "metadata": {
        "colab": {
          "base_uri": "https://localhost:8080/"
        },
        "id": "8mbbKElWsK8t",
        "outputId": "9ebde31f-b49c-41b4-f0f7-a3d7864329df"
      },
      "id": "8mbbKElWsK8t",
      "execution_count": 8,
      "outputs": [
        {
          "output_type": "stream",
          "name": "stdout",
          "text": [
            "('Scottish', 12)\n"
          ]
        }
      ]
    },
    {
      "cell_type": "markdown",
      "source": [
        "Quick Training Example: \n"
      ],
      "metadata": {
        "id": "IYRKQ1KfsZKw"
      },
      "id": "IYRKQ1KfsZKw"
    },
    {
      "cell_type": "code",
      "source": [
        "import random\n",
        "\n",
        "def randomChoice(l):\n",
        "    return l[random.randint(0, len(l) - 1)]\n",
        "\n",
        "def randomTrainingExample():\n",
        "    category = randomChoice(all_categories)\n",
        "    line = randomChoice(category_lines[category])\n",
        "    category_tensor = torch.tensor([all_categories.index(category)], dtype=torch.long)\n",
        "    line_tensor = lineToTensor(line)\n",
        "    return category, line, category_tensor, line_tensor\n",
        "\n",
        "for i in range(10):\n",
        "    category, line, category_tensor, line_tensor = randomTrainingExample()\n",
        "    print('category =', category, '/ line =', line)"
      ],
      "metadata": {
        "colab": {
          "base_uri": "https://localhost:8080/"
        },
        "id": "zvQuf4LOsbCX",
        "outputId": "23c8c3de-121c-493d-ef67-b22dc1e7c61e"
      },
      "id": "zvQuf4LOsbCX",
      "execution_count": 9,
      "outputs": [
        {
          "output_type": "stream",
          "name": "stdout",
          "text": [
            "category = Irish / line = Naomhan\n",
            "category = Vietnamese / line = Do\n",
            "category = Japanese / line = Uboshita\n",
            "category = Czech / line = Mozzis\n",
            "category = Scottish / line = Anderson\n",
            "category = Japanese / line = Kimio\n",
            "category = Chinese / line = Xuan\n",
            "category = Scottish / line = Smith\n",
            "category = Chinese / line = Wang\n",
            "category = Chinese / line = Hong\n"
          ]
        }
      ]
    },
    {
      "cell_type": "markdown",
      "source": [
        "Now we can get to training: \n",
        "- No need for batches\n",
        "- We will be using the NLLLoss function as last layer of RNN is logsoftmax()"
      ],
      "metadata": {
        "id": "u3kR8zhDsgs_"
      },
      "id": "u3kR8zhDsgs_"
    },
    {
      "cell_type": "code",
      "source": [
        "criterion = nn.NLLLoss()"
      ],
      "metadata": {
        "id": "6vwl-Q9asqG9"
      },
      "id": "6vwl-Q9asqG9",
      "execution_count": 10,
      "outputs": []
    },
    {
      "cell_type": "markdown",
      "source": [
        "The training loop will consist of: \n",
        "- Create input and target tensors\n",
        "- Create a zeroed initial hidden state\n",
        "- Read each letter in and\n",
        "  - Keep hidden state for next letter\n",
        "- Compare final output to target\n",
        "- Back-propagate\n",
        "- Return the output and loss"
      ],
      "metadata": {
        "id": "RRau3n2Nsr-u"
      },
      "id": "RRau3n2Nsr-u"
    },
    {
      "cell_type": "code",
      "source": [
        "learning_rate = 0.005 # If you set this too high, it might explode. If too low, it might not learn\n",
        "\n",
        "def train(category_tensor, line_tensor):\n",
        "    hidden = rnn.initHidden()  # instanciate the Hidden Unit\n",
        "\n",
        "    rnn.zero_grad()  # Set zero gradient\n",
        "\n",
        "    for i in range(line_tensor.size()[0]):\n",
        "        output, hidden = rnn(line_tensor[i], hidden)  # Run model\n",
        "\n",
        "    loss = criterion(output, category_tensor)\n",
        "    loss.backward()\n",
        "\n",
        "    # Add parameters' gradients to their values, multiplied by learning rate\n",
        "    for p in rnn.parameters():\n",
        "        p.data.add_(p.grad.data, alpha=-learning_rate)\n",
        "\n",
        "    return output, loss.item()"
      ],
      "metadata": {
        "id": "HDXL06ets3kW"
      },
      "id": "HDXL06ets3kW",
      "execution_count": 11,
      "outputs": []
    },
    {
      "cell_type": "markdown",
      "source": [
        "Now we just have to run that with a bunch of examples. Since the train function returns both the output and loss we can print its guesses and also keep track of loss for plotting. Since there are 1000s of examples we print only every print_every examples, and take an average of the loss"
      ],
      "metadata": {
        "id": "_PD4u8eftS95"
      },
      "id": "_PD4u8eftS95"
    },
    {
      "cell_type": "code",
      "source": [
        "import time\n",
        "import math\n",
        "\n",
        "n_iters = 100000\n",
        "print_every = 5000\n",
        "plot_every = 1000\n",
        "\n",
        "\n",
        "\n",
        "# Keep track of losses for plotting\n",
        "current_loss = 0\n",
        "all_losses = []\n",
        "\n",
        "def timeSince(since):\n",
        "    now = time.time()\n",
        "    s = now - since\n",
        "    m = math.floor(s / 60)\n",
        "    s -= m * 60\n",
        "    return '%dm %ds' % (m, s)\n",
        "\n",
        "start = time.time()\n",
        "\n",
        "for iter in range(1, n_iters + 1):\n",
        "    category, line, category_tensor, line_tensor = randomTrainingExample()\n",
        "    output, loss = train(category_tensor, line_tensor)\n",
        "    current_loss += loss\n",
        "\n",
        "    # Print iter number, loss, name and guess\n",
        "    if iter % print_every == 0:\n",
        "        guess, guess_i = categoryFromOutput(output)\n",
        "        correct = '✓' if guess == category else '✗ (%s)' % category\n",
        "        print('%d %d%% (%s) %.4f %s / %s %s' % (iter, iter / n_iters * 100, timeSince(start), loss, line, guess, correct))\n",
        "\n",
        "    # Add current loss avg to list of losses\n",
        "    if iter % plot_every == 0:\n",
        "        all_losses.append(current_loss / plot_every)\n",
        "        current_loss = 0"
      ],
      "metadata": {
        "colab": {
          "base_uri": "https://localhost:8080/"
        },
        "id": "aUnd5HG2tYfv",
        "outputId": "2c26cf14-d589-4b75-95a2-ecd214b501b7"
      },
      "id": "aUnd5HG2tYfv",
      "execution_count": 12,
      "outputs": [
        {
          "output_type": "stream",
          "name": "stdout",
          "text": [
            "5000 5% (0m 14s) 2.6883 Samson / Scottish ✗ (Dutch)\n",
            "10000 10% (0m 20s) 2.9839 Magalhaes / Japanese ✗ (Portuguese)\n",
            "15000 15% (0m 26s) 2.3238 Bruce / French ✗ (Scottish)\n",
            "20000 20% (0m 32s) 2.1890 Bonomo / Arabic ✗ (Italian)\n",
            "25000 25% (0m 37s) 0.8782 Piraino / Italian ✓\n",
            "30000 30% (0m 44s) 1.0172 Gronchi / Italian ✓\n",
            "35000 35% (0m 50s) 3.2497 Roig / Korean ✗ (Spanish)\n",
            "40000 40% (0m 56s) 0.6295 Gomulka / Polish ✓\n",
            "45000 45% (1m 2s) 0.1758 Sklavenitis / Greek ✓\n",
            "50000 50% (1m 8s) 0.3560 Slapnickova / Czech ✓\n",
            "55000 55% (1m 14s) 1.7684 Vicario / Portuguese ✗ (Italian)\n",
            "60000 60% (1m 20s) 0.2990 Pechinkin / Russian ✓\n",
            "65000 65% (1m 25s) 2.0037 Fabron / Scottish ✗ (French)\n",
            "70000 70% (1m 31s) 1.8333 Kenning / English ✓\n",
            "75000 75% (1m 37s) 0.7374 Kloeten / Dutch ✓\n",
            "80000 80% (1m 43s) 1.4176 Desjardins / French ✓\n",
            "85000 85% (1m 51s) 0.7684 Viola / Spanish ✓\n",
            "90000 90% (1m 58s) 1.2416 Lorentz / German ✓\n",
            "95000 95% (2m 4s) 0.2101 Delacroix / French ✓\n",
            "100000 100% (2m 10s) 0.5302 Ho / Vietnamese ✓\n"
          ]
        }
      ]
    },
    {
      "cell_type": "markdown",
      "source": [
        "We can also plot the learning curve of the model: "
      ],
      "metadata": {
        "id": "GveKpnFBtcmx"
      },
      "id": "GveKpnFBtcmx"
    },
    {
      "cell_type": "code",
      "source": [
        "import matplotlib.pyplot as plt\n",
        "import matplotlib.ticker as ticker\n",
        "\n",
        "plt.figure()\n",
        "plt.plot(all_losses)"
      ],
      "metadata": {
        "colab": {
          "base_uri": "https://localhost:8080/",
          "height": 282
        },
        "id": "KxC56V_StjSj",
        "outputId": "0d6dae06-294e-4153-bf46-3f17d62bd9b3"
      },
      "id": "KxC56V_StjSj",
      "execution_count": 16,
      "outputs": [
        {
          "output_type": "execute_result",
          "data": {
            "text/plain": [
              "[<matplotlib.lines.Line2D at 0x7f75a53a6b20>]"
            ]
          },
          "metadata": {},
          "execution_count": 16
        },
        {
          "output_type": "display_data",
          "data": {
            "text/plain": [
              "<Figure size 432x288 with 1 Axes>"
            ],
            "image/png": "[encoded data removed]"
          },
          "metadata": {
            "needs_background": "light"
          }
        }
      ]
    },
    {
      "cell_type": "markdown",
      "source": [
        "Evaluation of the Model: \n",
        "\n",
        "To see how well the network performs on different categories, we will create a confusion matrix, indicating for every actual language (rows) which language the network guesses (columns). To calculate the confusion matrix a bunch of samples are run through the network with evaluate(), which is the same as train() minus the backprop."
      ],
      "metadata": {
        "id": "I5axoUahtrhg"
      },
      "id": "I5axoUahtrhg"
    },
    {
      "cell_type": "code",
      "source": [
        "# Keep track of correct guesses in a confusion matrix\n",
        "confusion = torch.zeros(n_categories, n_categories)\n",
        "n_confusion = 10000\n",
        "\n",
        "# Just return an output given a line\n",
        "def evaluate(line_tensor):\n",
        "    hidden = rnn.initHidden()\n",
        "\n",
        "    for i in range(line_tensor.size()[0]):\n",
        "        output, hidden = rnn(line_tensor[i], hidden)\n",
        "\n",
        "    return output\n",
        "\n",
        "# Go through a bunch of examples and record which are correctly guessed\n",
        "for i in range(n_confusion):\n",
        "    category, line, category_tensor, line_tensor = randomTrainingExample()\n",
        "    output = evaluate(line_tensor)\n",
        "    guess, guess_i = categoryFromOutput(output)\n",
        "    category_i = all_categories.index(category)\n",
        "    confusion[category_i][guess_i] += 1\n",
        "\n",
        "# Normalize by dividing every row by its sum\n",
        "for i in range(n_categories):\n",
        "    confusion[i] = confusion[i] / confusion[i].sum()\n",
        "\n",
        "# Set up plot\n",
        "fig = plt.figure()\n",
        "ax = fig.add_subplot(111)\n",
        "cax = ax.matshow(confusion.numpy())\n",
        "fig.colorbar(cax)\n",
        "\n",
        "# Set up axes\n",
        "ax.set_xticklabels([''] + all_categories, rotation=90)\n",
        "ax.set_yticklabels([''] + all_categories)\n",
        "\n",
        "# Force label at every tick\n",
        "ax.xaxis.set_major_locator(ticker.MultipleLocator(1))\n",
        "ax.yaxis.set_major_locator(ticker.MultipleLocator(1))\n",
        "\n",
        "# sphinx_gallery_thumbnail_number = 2\n",
        "plt.show();"
      ],
      "metadata": {
        "colab": {
          "base_uri": "https://localhost:8080/",
          "height": 320
        },
        "id": "V690QR5Gtuvi",
        "outputId": "b0546f07-2d0b-439a-d40f-17f05bf513c9"
      },
      "id": "V690QR5Gtuvi",
      "execution_count": 17,
      "outputs": [
        {
          "output_type": "display_data",
          "data": {
            "text/plain": [
              "<Figure size 432x288 with 2 Axes>"
            ],
            "image/png": "[encoded data removed]"
          },
          "metadata": {
            "needs_background": "light"
          }
        }
      ]
    },
    {
      "cell_type": "markdown",
      "source": [
        "You can see that the model confuses certain languages together such as Korean and Chinese and Spanish and Portuguese."
      ],
      "metadata": {
        "id": "zHBfG_ZcuSDQ"
      },
      "id": "zHBfG_ZcuSDQ"
    },
    {
      "cell_type": "markdown",
      "source": [
        "Function to get user Input: "
      ],
      "metadata": {
        "id": "kk4F-kA6uC7H"
      },
      "id": "kk4F-kA6uC7H"
    },
    {
      "cell_type": "code",
      "source": [
        "def predict(input_line, n_predictions=3):\n",
        "    print('\\n> %s' % input_line)\n",
        "    with torch.no_grad():\n",
        "        output = evaluate(lineToTensor(input_line))\n",
        "\n",
        "        # Get top N categories\n",
        "        topv, topi = output.topk(n_predictions, 1, True)\n",
        "        predictions = []\n",
        "\n",
        "        for i in range(n_predictions):\n",
        "            value = topv[0][i].item()\n",
        "            category_index = topi[0][i].item()\n",
        "            print('(%.2f) %s' % (value, all_categories[category_index]))\n",
        "            predictions.append([value, all_categories[category_index]])\n",
        "\n",
        "predict('Raffaud')  # French\n",
        "predict('Linh Lou')  # Vietnamese\n",
        "predict('Auquier')  # French\n",
        "predict('Atash')  "
      ],
      "metadata": {
        "colab": {
          "base_uri": "https://localhost:8080/"
        },
        "id": "rM1tyHbzuGrO",
        "outputId": "145c777d-e245-4a0b-ad6d-d2401decd9cf"
      },
      "id": "rM1tyHbzuGrO",
      "execution_count": 35,
      "outputs": [
        {
          "output_type": "stream",
          "name": "stdout",
          "text": [
            "\n",
            "> Raffaud\n",
            "(-1.44) French\n",
            "(-2.10) English\n",
            "(-2.20) Arabic\n",
            "\n",
            "> Linh Lou\n",
            "(-0.49) Vietnamese\n",
            "(-1.31) Korean\n",
            "(-2.39) Chinese\n",
            "\n",
            "> Auquier\n",
            "(-0.79) French\n",
            "(-1.95) Dutch\n",
            "(-2.12) German\n",
            "\n",
            "> Atash\n",
            "(-0.09) Arabic\n",
            "(-3.64) German\n",
            "(-4.33) Japanese\n"
          ]
        }
      ]
    }
  ],
  "metadata": {
    "kernelspec": {
      "display_name": "Python 3 (ipykernel)",
      "language": "python",
      "name": "python3"
    },
    "language_info": {
      "codemirror_mode": {
        "name": "ipython",
        "version": 3
      },
      "file_extension": ".py",
      "mimetype": "text/x-python",
      "name": "python",
      "nbconvert_exporter": "python",
      "pygments_lexer": "ipython3",
      "version": "3.10.4"
    },
    "colab": {
      "provenance": [],
      "include_colab_link": true
    },
    "gpuClass": "standard"
  },
  "nbformat": 4,
  "nbformat_minor": 5
}